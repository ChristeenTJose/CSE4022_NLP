{
  "nbformat": 4,
  "nbformat_minor": 0,
  "metadata": {
    "colab": {
      "name": "HW2_Verb_Phrase.ipynb",
      "provenance": [],
      "collapsed_sections": [],
      "toc_visible": true,
      "authorship_tag": "ABX9TyN/0zSU1bXBuwZlJiGAcaJD",
      "include_colab_link": true
    },
    "kernelspec": {
      "name": "python3",
      "display_name": "Python 3"
    }
  },
  "cells": [
    {
      "cell_type": "markdown",
      "metadata": {
        "id": "view-in-github",
        "colab_type": "text"
      },
      "source": [
        "<a href=\"https://colab.research.google.com/github/ChristeenTJose/CSE4022_NLP/blob/master/HW2_Verb_Phrase.ipynb\" target=\"_parent\"><img src=\"https://colab.research.google.com/assets/colab-badge.svg\" alt=\"Open In Colab\"/></a>"
      ]
    },
    {
      "cell_type": "code",
      "metadata": {
        "id": "S2KNFC8OYzaN"
      },
      "source": [
        "import nltk\n",
        "nltk.download('all')"
      ],
      "execution_count": null,
      "outputs": []
    },
    {
      "cell_type": "code",
      "metadata": {
        "id": "-PViZaFzRuf2"
      },
      "source": [
        "from nltk.tokenize import word_tokenize,sent_tokenize\n",
        "from nltk import pos_tag"
      ],
      "execution_count": 12,
      "outputs": []
    },
    {
      "cell_type": "markdown",
      "metadata": {
        "id": "DGnHLmxPSJOd"
      },
      "source": [
        "# Read the file"
      ]
    },
    {
      "cell_type": "code",
      "metadata": {
        "id": "HqfsO09oRZd9",
        "outputId": "a5a8b42f-fb3a-4edf-a83c-e85dcf4a1e03",
        "colab": {
          "base_uri": "https://localhost:8080/",
          "height": 137
        }
      },
      "source": [
        "data = open(\"/content/Gettysburg Address.txt\",\"r\")\n",
        "data = data.read()\n",
        "data"
      ],
      "execution_count": 8,
      "outputs": [
        {
          "output_type": "execute_result",
          "data": {
            "application/vnd.google.colaboratory.intrinsic+json": {
              "type": "string"
            },
            "text/plain": [
              "'Four score and seven years ago our fathers brought forth on this continent, a new nation, conceived in Liberty, and dedicated to the proposition that all men are created equal. Now we are engaged in a great civil war, testing whether that nation, or any nation so conceived and so dedicated, can long endure. We are met on a great battle-field of that war. We have come to dedicate a portion of that field, as a final resting place for those who here gave their lives that that nation might live. It is altogether fitting and proper that we should do this. But, in a larger sense, we can not dedicate—we can not consecrate—we can not hallow—this ground. The brave men, living and dead, who struggled here, have consecrated it, far above our poor power to add or detract. The world will little note, nor long remember what we say here, but it can never forget what they did here. It is for us the living, rather, to be dedicated here to the unfinished work which they who fought here have thus far so nobly advanced. It is rather for us to be here dedicated to the great task remaining before us—that from these honored dead we take increased devotion to that cause for which they gave the last full measure of devotion—that we here highly resolve that these dead shall not have died in vain—that this nation, under God, shall have a new birth of freedom—and that government of the people, by the people, for the people, shall not perish from the earth.'"
            ]
          },
          "metadata": {
            "tags": []
          },
          "execution_count": 8
        }
      ]
    },
    {
      "cell_type": "markdown",
      "metadata": {
        "id": "OoLYWcyDSRwN"
      },
      "source": [
        "# Sentence Tokenization"
      ]
    },
    {
      "cell_type": "code",
      "metadata": {
        "id": "XjncAO-KSSDQ",
        "outputId": "8120710f-8059-47e5-d4f1-a6a9791d8e21",
        "colab": {
          "base_uri": "https://localhost:8080/",
          "height": 205
        }
      },
      "source": [
        "data = sent_tokenize(data)\n",
        "data"
      ],
      "execution_count": 9,
      "outputs": [
        {
          "output_type": "execute_result",
          "data": {
            "text/plain": [
              "['Four score and seven years ago our fathers brought forth on this continent, a new nation, conceived in Liberty, and dedicated to the proposition that all men are created equal.',\n",
              " 'Now we are engaged in a great civil war, testing whether that nation, or any nation so conceived and so dedicated, can long endure.',\n",
              " 'We are met on a great battle-field of that war.',\n",
              " 'We have come to dedicate a portion of that field, as a final resting place for those who here gave their lives that that nation might live.',\n",
              " 'It is altogether fitting and proper that we should do this.',\n",
              " 'But, in a larger sense, we can not dedicate—we can not consecrate—we can not hallow—this ground.',\n",
              " 'The brave men, living and dead, who struggled here, have consecrated it, far above our poor power to add or detract.',\n",
              " 'The world will little note, nor long remember what we say here, but it can never forget what they did here.',\n",
              " 'It is for us the living, rather, to be dedicated here to the unfinished work which they who fought here have thus far so nobly advanced.',\n",
              " 'It is rather for us to be here dedicated to the great task remaining before us—that from these honored dead we take increased devotion to that cause for which they gave the last full measure of devotion—that we here highly resolve that these dead shall not have died in vain—that this nation, under God, shall have a new birth of freedom—and that government of the people, by the people, for the people, shall not perish from the earth.']"
            ]
          },
          "metadata": {
            "tags": []
          },
          "execution_count": 9
        }
      ]
    },
    {
      "cell_type": "markdown",
      "metadata": {
        "id": "RuXEIVUdSbsI"
      },
      "source": [
        "# Word Tokenization"
      ]
    },
    {
      "cell_type": "code",
      "metadata": {
        "id": "KyfsRMa-Sfu3",
        "outputId": "f70d9f97-30fd-44de-95d1-25a7c114f0f4",
        "colab": {
          "base_uri": "https://localhost:8080/",
          "height": 54
        }
      },
      "source": [
        "for i in range(len(data)):\n",
        "  data[i] = word_tokenize(data[i])\n",
        "print(data)"
      ],
      "execution_count": 10,
      "outputs": [
        {
          "output_type": "stream",
          "text": [
            "[['Four', 'score', 'and', 'seven', 'years', 'ago', 'our', 'fathers', 'brought', 'forth', 'on', 'this', 'continent', ',', 'a', 'new', 'nation', ',', 'conceived', 'in', 'Liberty', ',', 'and', 'dedicated', 'to', 'the', 'proposition', 'that', 'all', 'men', 'are', 'created', 'equal', '.'], ['Now', 'we', 'are', 'engaged', 'in', 'a', 'great', 'civil', 'war', ',', 'testing', 'whether', 'that', 'nation', ',', 'or', 'any', 'nation', 'so', 'conceived', 'and', 'so', 'dedicated', ',', 'can', 'long', 'endure', '.'], ['We', 'are', 'met', 'on', 'a', 'great', 'battle-field', 'of', 'that', 'war', '.'], ['We', 'have', 'come', 'to', 'dedicate', 'a', 'portion', 'of', 'that', 'field', ',', 'as', 'a', 'final', 'resting', 'place', 'for', 'those', 'who', 'here', 'gave', 'their', 'lives', 'that', 'that', 'nation', 'might', 'live', '.'], ['It', 'is', 'altogether', 'fitting', 'and', 'proper', 'that', 'we', 'should', 'do', 'this', '.'], ['But', ',', 'in', 'a', 'larger', 'sense', ',', 'we', 'can', 'not', 'dedicate—we', 'can', 'not', 'consecrate—we', 'can', 'not', 'hallow—this', 'ground', '.'], ['The', 'brave', 'men', ',', 'living', 'and', 'dead', ',', 'who', 'struggled', 'here', ',', 'have', 'consecrated', 'it', ',', 'far', 'above', 'our', 'poor', 'power', 'to', 'add', 'or', 'detract', '.'], ['The', 'world', 'will', 'little', 'note', ',', 'nor', 'long', 'remember', 'what', 'we', 'say', 'here', ',', 'but', 'it', 'can', 'never', 'forget', 'what', 'they', 'did', 'here', '.'], ['It', 'is', 'for', 'us', 'the', 'living', ',', 'rather', ',', 'to', 'be', 'dedicated', 'here', 'to', 'the', 'unfinished', 'work', 'which', 'they', 'who', 'fought', 'here', 'have', 'thus', 'far', 'so', 'nobly', 'advanced', '.'], ['It', 'is', 'rather', 'for', 'us', 'to', 'be', 'here', 'dedicated', 'to', 'the', 'great', 'task', 'remaining', 'before', 'us—that', 'from', 'these', 'honored', 'dead', 'we', 'take', 'increased', 'devotion', 'to', 'that', 'cause', 'for', 'which', 'they', 'gave', 'the', 'last', 'full', 'measure', 'of', 'devotion—that', 'we', 'here', 'highly', 'resolve', 'that', 'these', 'dead', 'shall', 'not', 'have', 'died', 'in', 'vain—that', 'this', 'nation', ',', 'under', 'God', ',', 'shall', 'have', 'a', 'new', 'birth', 'of', 'freedom—and', 'that', 'government', 'of', 'the', 'people', ',', 'by', 'the', 'people', ',', 'for', 'the', 'people', ',', 'shall', 'not', 'perish', 'from', 'the', 'earth', '.']]\n"
          ],
          "name": "stdout"
        }
      ]
    },
    {
      "cell_type": "markdown",
      "metadata": {
        "id": "n_tW2aLKS6Wd"
      },
      "source": [
        "# Part of Speech Tagging"
      ]
    },
    {
      "cell_type": "code",
      "metadata": {
        "id": "Lq-2-hgYTHmc",
        "outputId": "d23d6333-de72-4d5f-bd0d-d0e2d8a4cf2e",
        "colab": {
          "base_uri": "https://localhost:8080/",
          "height": 54
        }
      },
      "source": [
        "for i in range(len(data)):\n",
        "  data[i] = pos_tag(data[i])\n",
        "print(data)"
      ],
      "execution_count": 11,
      "outputs": [
        {
          "output_type": "stream",
          "text": [
            "[[('Four', 'CD'), ('score', 'NN'), ('and', 'CC'), ('seven', 'CD'), ('years', 'NNS'), ('ago', 'RB'), ('our', 'PRP$'), ('fathers', 'NNS'), ('brought', 'VBN'), ('forth', 'RB'), ('on', 'IN'), ('this', 'DT'), ('continent', 'NN'), (',', ','), ('a', 'DT'), ('new', 'JJ'), ('nation', 'NN'), (',', ','), ('conceived', 'VBN'), ('in', 'IN'), ('Liberty', 'NNP'), (',', ','), ('and', 'CC'), ('dedicated', 'VBD'), ('to', 'TO'), ('the', 'DT'), ('proposition', 'NN'), ('that', 'IN'), ('all', 'DT'), ('men', 'NNS'), ('are', 'VBP'), ('created', 'VBN'), ('equal', 'JJ'), ('.', '.')], [('Now', 'RB'), ('we', 'PRP'), ('are', 'VBP'), ('engaged', 'VBN'), ('in', 'IN'), ('a', 'DT'), ('great', 'JJ'), ('civil', 'JJ'), ('war', 'NN'), (',', ','), ('testing', 'VBG'), ('whether', 'IN'), ('that', 'DT'), ('nation', 'NN'), (',', ','), ('or', 'CC'), ('any', 'DT'), ('nation', 'NN'), ('so', 'RB'), ('conceived', 'JJ'), ('and', 'CC'), ('so', 'RB'), ('dedicated', 'JJ'), (',', ','), ('can', 'MD'), ('long', 'VB'), ('endure', 'NN'), ('.', '.')], [('We', 'PRP'), ('are', 'VBP'), ('met', 'VBN'), ('on', 'IN'), ('a', 'DT'), ('great', 'JJ'), ('battle-field', 'NN'), ('of', 'IN'), ('that', 'DT'), ('war', 'NN'), ('.', '.')], [('We', 'PRP'), ('have', 'VBP'), ('come', 'VBN'), ('to', 'TO'), ('dedicate', 'VB'), ('a', 'DT'), ('portion', 'NN'), ('of', 'IN'), ('that', 'DT'), ('field', 'NN'), (',', ','), ('as', 'IN'), ('a', 'DT'), ('final', 'JJ'), ('resting', 'NN'), ('place', 'NN'), ('for', 'IN'), ('those', 'DT'), ('who', 'WP'), ('here', 'RB'), ('gave', 'VBD'), ('their', 'PRP$'), ('lives', 'NNS'), ('that', 'IN'), ('that', 'DT'), ('nation', 'NN'), ('might', 'MD'), ('live', 'VB'), ('.', '.')], [('It', 'PRP'), ('is', 'VBZ'), ('altogether', 'RB'), ('fitting', 'JJ'), ('and', 'CC'), ('proper', 'JJ'), ('that', 'IN'), ('we', 'PRP'), ('should', 'MD'), ('do', 'VB'), ('this', 'DT'), ('.', '.')], [('But', 'CC'), (',', ','), ('in', 'IN'), ('a', 'DT'), ('larger', 'JJR'), ('sense', 'NN'), (',', ','), ('we', 'PRP'), ('can', 'MD'), ('not', 'RB'), ('dedicate—we', 'VB'), ('can', 'MD'), ('not', 'RB'), ('consecrate—we', 'VB'), ('can', 'MD'), ('not', 'RB'), ('hallow—this', 'VB'), ('ground', 'NN'), ('.', '.')], [('The', 'DT'), ('brave', 'NN'), ('men', 'NNS'), (',', ','), ('living', 'NN'), ('and', 'CC'), ('dead', 'JJ'), (',', ','), ('who', 'WP'), ('struggled', 'VBD'), ('here', 'RB'), (',', ','), ('have', 'VBP'), ('consecrated', 'VBN'), ('it', 'PRP'), (',', ','), ('far', 'RB'), ('above', 'IN'), ('our', 'PRP$'), ('poor', 'JJ'), ('power', 'NN'), ('to', 'TO'), ('add', 'VB'), ('or', 'CC'), ('detract', 'VB'), ('.', '.')], [('The', 'DT'), ('world', 'NN'), ('will', 'MD'), ('little', 'VB'), ('note', 'NN'), (',', ','), ('nor', 'CC'), ('long', 'JJ'), ('remember', 'VB'), ('what', 'WP'), ('we', 'PRP'), ('say', 'VBP'), ('here', 'RB'), (',', ','), ('but', 'CC'), ('it', 'PRP'), ('can', 'MD'), ('never', 'RB'), ('forget', 'VB'), ('what', 'WP'), ('they', 'PRP'), ('did', 'VBD'), ('here', 'RB'), ('.', '.')], [('It', 'PRP'), ('is', 'VBZ'), ('for', 'IN'), ('us', 'PRP'), ('the', 'DT'), ('living', 'NN'), (',', ','), ('rather', 'RB'), (',', ','), ('to', 'TO'), ('be', 'VB'), ('dedicated', 'VBN'), ('here', 'RB'), ('to', 'TO'), ('the', 'DT'), ('unfinished', 'JJ'), ('work', 'NN'), ('which', 'WDT'), ('they', 'PRP'), ('who', 'WP'), ('fought', 'VBP'), ('here', 'RB'), ('have', 'VBP'), ('thus', 'RB'), ('far', 'RB'), ('so', 'RB'), ('nobly', 'RB'), ('advanced', 'JJ'), ('.', '.')], [('It', 'PRP'), ('is', 'VBZ'), ('rather', 'RB'), ('for', 'IN'), ('us', 'PRP'), ('to', 'TO'), ('be', 'VB'), ('here', 'RB'), ('dedicated', 'VBN'), ('to', 'TO'), ('the', 'DT'), ('great', 'JJ'), ('task', 'NN'), ('remaining', 'VBG'), ('before', 'IN'), ('us—that', 'JJ'), ('from', 'IN'), ('these', 'DT'), ('honored', 'VBN'), ('dead', 'NN'), ('we', 'PRP'), ('take', 'VBP'), ('increased', 'JJ'), ('devotion', 'NN'), ('to', 'TO'), ('that', 'DT'), ('cause', 'NN'), ('for', 'IN'), ('which', 'WDT'), ('they', 'PRP'), ('gave', 'VBD'), ('the', 'DT'), ('last', 'JJ'), ('full', 'JJ'), ('measure', 'NN'), ('of', 'IN'), ('devotion—that', 'NN'), ('we', 'PRP'), ('here', 'RB'), ('highly', 'RB'), ('resolve', 'VBP'), ('that', 'IN'), ('these', 'DT'), ('dead', 'JJ'), ('shall', 'MD'), ('not', 'RB'), ('have', 'VB'), ('died', 'VBN'), ('in', 'IN'), ('vain—that', 'WP'), ('this', 'DT'), ('nation', 'NN'), (',', ','), ('under', 'IN'), ('God', 'NNP'), (',', ','), ('shall', 'MD'), ('have', 'VB'), ('a', 'DT'), ('new', 'JJ'), ('birth', 'NN'), ('of', 'IN'), ('freedom—and', 'NN'), ('that', 'WDT'), ('government', 'NN'), ('of', 'IN'), ('the', 'DT'), ('people', 'NNS'), (',', ','), ('by', 'IN'), ('the', 'DT'), ('people', 'NNS'), (',', ','), ('for', 'IN'), ('the', 'DT'), ('people', 'NNS'), (',', ','), ('shall', 'MD'), ('not', 'RB'), ('perish', 'VB'), ('from', 'IN'), ('the', 'DT'), ('earth', 'NN'), ('.', '.')]]\n"
          ],
          "name": "stdout"
        }
      ]
    },
    {
      "cell_type": "markdown",
      "metadata": {
        "id": "1zKVB7u-U_GH"
      },
      "source": [
        "# Grammer for Verb Phrase"
      ]
    },
    {
      "cell_type": "code",
      "metadata": {
        "id": "fiv4cfMMVnPd"
      },
      "source": [
        "grammar = \"VP: {<MD>?<VB.*><NP|PP>}\""
      ],
      "execution_count": 26,
      "outputs": []
    },
    {
      "cell_type": "markdown",
      "metadata": {
        "id": "jPzIc-AuWRVg"
      },
      "source": [
        "# Verb Phrases"
      ]
    },
    {
      "cell_type": "code",
      "metadata": {
        "id": "aDz6tlGIVB83",
        "outputId": "bd29f994-6283-4c19-a65c-6a7f208a9d20",
        "colab": {
          "base_uri": "https://localhost:8080/",
          "height": 1000
        }
      },
      "source": [
        "results = []\n",
        "cp = nltk.RegexpParser(grammar)\n",
        "for sentence in data:\n",
        "  result = cp.parse(sentence)\n",
        "  print(result,'\\n\\n')\n",
        "  results.append(result)"
      ],
      "execution_count": 27,
      "outputs": [
        {
          "output_type": "stream",
          "text": [
            "(S\n",
            "  Four/CD\n",
            "  score/NN\n",
            "  and/CC\n",
            "  seven/CD\n",
            "  years/NNS\n",
            "  ago/RB\n",
            "  our/PRP$\n",
            "  fathers/NNS\n",
            "  brought/VBN\n",
            "  forth/RB\n",
            "  on/IN\n",
            "  this/DT\n",
            "  continent/NN\n",
            "  ,/,\n",
            "  a/DT\n",
            "  new/JJ\n",
            "  nation/NN\n",
            "  ,/,\n",
            "  conceived/VBN\n",
            "  in/IN\n",
            "  Liberty/NNP\n",
            "  ,/,\n",
            "  and/CC\n",
            "  dedicated/VBD\n",
            "  to/TO\n",
            "  the/DT\n",
            "  proposition/NN\n",
            "  that/IN\n",
            "  all/DT\n",
            "  men/NNS\n",
            "  are/VBP\n",
            "  created/VBN\n",
            "  equal/JJ\n",
            "  ./.) \n",
            "\n",
            "\n",
            "(S\n",
            "  Now/RB\n",
            "  we/PRP\n",
            "  are/VBP\n",
            "  engaged/VBN\n",
            "  in/IN\n",
            "  a/DT\n",
            "  great/JJ\n",
            "  civil/JJ\n",
            "  war/NN\n",
            "  ,/,\n",
            "  testing/VBG\n",
            "  whether/IN\n",
            "  that/DT\n",
            "  nation/NN\n",
            "  ,/,\n",
            "  or/CC\n",
            "  any/DT\n",
            "  nation/NN\n",
            "  so/RB\n",
            "  conceived/JJ\n",
            "  and/CC\n",
            "  so/RB\n",
            "  dedicated/JJ\n",
            "  ,/,\n",
            "  can/MD\n",
            "  long/VB\n",
            "  endure/NN\n",
            "  ./.) \n",
            "\n",
            "\n",
            "(S\n",
            "  We/PRP\n",
            "  are/VBP\n",
            "  met/VBN\n",
            "  on/IN\n",
            "  a/DT\n",
            "  great/JJ\n",
            "  battle-field/NN\n",
            "  of/IN\n",
            "  that/DT\n",
            "  war/NN\n",
            "  ./.) \n",
            "\n",
            "\n",
            "(S\n",
            "  We/PRP\n",
            "  have/VBP\n",
            "  come/VBN\n",
            "  to/TO\n",
            "  dedicate/VB\n",
            "  a/DT\n",
            "  portion/NN\n",
            "  of/IN\n",
            "  that/DT\n",
            "  field/NN\n",
            "  ,/,\n",
            "  as/IN\n",
            "  a/DT\n",
            "  final/JJ\n",
            "  resting/NN\n",
            "  place/NN\n",
            "  for/IN\n",
            "  those/DT\n",
            "  who/WP\n",
            "  here/RB\n",
            "  gave/VBD\n",
            "  their/PRP$\n",
            "  lives/NNS\n",
            "  that/IN\n",
            "  that/DT\n",
            "  nation/NN\n",
            "  might/MD\n",
            "  live/VB\n",
            "  ./.) \n",
            "\n",
            "\n",
            "(S\n",
            "  It/PRP\n",
            "  is/VBZ\n",
            "  altogether/RB\n",
            "  fitting/JJ\n",
            "  and/CC\n",
            "  proper/JJ\n",
            "  that/IN\n",
            "  we/PRP\n",
            "  should/MD\n",
            "  do/VB\n",
            "  this/DT\n",
            "  ./.) \n",
            "\n",
            "\n",
            "(S\n",
            "  But/CC\n",
            "  ,/,\n",
            "  in/IN\n",
            "  a/DT\n",
            "  larger/JJR\n",
            "  sense/NN\n",
            "  ,/,\n",
            "  we/PRP\n",
            "  can/MD\n",
            "  not/RB\n",
            "  dedicate—we/VB\n",
            "  can/MD\n",
            "  not/RB\n",
            "  consecrate—we/VB\n",
            "  can/MD\n",
            "  not/RB\n",
            "  hallow—this/VB\n",
            "  ground/NN\n",
            "  ./.) \n",
            "\n",
            "\n",
            "(S\n",
            "  The/DT\n",
            "  brave/NN\n",
            "  men/NNS\n",
            "  ,/,\n",
            "  living/NN\n",
            "  and/CC\n",
            "  dead/JJ\n",
            "  ,/,\n",
            "  who/WP\n",
            "  struggled/VBD\n",
            "  here/RB\n",
            "  ,/,\n",
            "  have/VBP\n",
            "  consecrated/VBN\n",
            "  it/PRP\n",
            "  ,/,\n",
            "  far/RB\n",
            "  above/IN\n",
            "  our/PRP$\n",
            "  poor/JJ\n",
            "  power/NN\n",
            "  to/TO\n",
            "  add/VB\n",
            "  or/CC\n",
            "  detract/VB\n",
            "  ./.) \n",
            "\n",
            "\n",
            "(S\n",
            "  The/DT\n",
            "  world/NN\n",
            "  will/MD\n",
            "  little/VB\n",
            "  note/NN\n",
            "  ,/,\n",
            "  nor/CC\n",
            "  long/JJ\n",
            "  remember/VB\n",
            "  what/WP\n",
            "  we/PRP\n",
            "  say/VBP\n",
            "  here/RB\n",
            "  ,/,\n",
            "  but/CC\n",
            "  it/PRP\n",
            "  can/MD\n",
            "  never/RB\n",
            "  forget/VB\n",
            "  what/WP\n",
            "  they/PRP\n",
            "  did/VBD\n",
            "  here/RB\n",
            "  ./.) \n",
            "\n",
            "\n",
            "(S\n",
            "  It/PRP\n",
            "  is/VBZ\n",
            "  for/IN\n",
            "  us/PRP\n",
            "  the/DT\n",
            "  living/NN\n",
            "  ,/,\n",
            "  rather/RB\n",
            "  ,/,\n",
            "  to/TO\n",
            "  be/VB\n",
            "  dedicated/VBN\n",
            "  here/RB\n",
            "  to/TO\n",
            "  the/DT\n",
            "  unfinished/JJ\n",
            "  work/NN\n",
            "  which/WDT\n",
            "  they/PRP\n",
            "  who/WP\n",
            "  fought/VBP\n",
            "  here/RB\n",
            "  have/VBP\n",
            "  thus/RB\n",
            "  far/RB\n",
            "  so/RB\n",
            "  nobly/RB\n",
            "  advanced/JJ\n",
            "  ./.) \n",
            "\n",
            "\n",
            "(S\n",
            "  It/PRP\n",
            "  is/VBZ\n",
            "  rather/RB\n",
            "  for/IN\n",
            "  us/PRP\n",
            "  to/TO\n",
            "  be/VB\n",
            "  here/RB\n",
            "  dedicated/VBN\n",
            "  to/TO\n",
            "  the/DT\n",
            "  great/JJ\n",
            "  task/NN\n",
            "  remaining/VBG\n",
            "  before/IN\n",
            "  us—that/JJ\n",
            "  from/IN\n",
            "  these/DT\n",
            "  honored/VBN\n",
            "  dead/NN\n",
            "  we/PRP\n",
            "  take/VBP\n",
            "  increased/JJ\n",
            "  devotion/NN\n",
            "  to/TO\n",
            "  that/DT\n",
            "  cause/NN\n",
            "  for/IN\n",
            "  which/WDT\n",
            "  they/PRP\n",
            "  gave/VBD\n",
            "  the/DT\n",
            "  last/JJ\n",
            "  full/JJ\n",
            "  measure/NN\n",
            "  of/IN\n",
            "  devotion—that/NN\n",
            "  we/PRP\n",
            "  here/RB\n",
            "  highly/RB\n",
            "  resolve/VBP\n",
            "  that/IN\n",
            "  these/DT\n",
            "  dead/JJ\n",
            "  shall/MD\n",
            "  not/RB\n",
            "  have/VB\n",
            "  died/VBN\n",
            "  in/IN\n",
            "  vain—that/WP\n",
            "  this/DT\n",
            "  nation/NN\n",
            "  ,/,\n",
            "  under/IN\n",
            "  God/NNP\n",
            "  ,/,\n",
            "  shall/MD\n",
            "  have/VB\n",
            "  a/DT\n",
            "  new/JJ\n",
            "  birth/NN\n",
            "  of/IN\n",
            "  freedom—and/NN\n",
            "  that/WDT\n",
            "  government/NN\n",
            "  of/IN\n",
            "  the/DT\n",
            "  people/NNS\n",
            "  ,/,\n",
            "  by/IN\n",
            "  the/DT\n",
            "  people/NNS\n",
            "  ,/,\n",
            "  for/IN\n",
            "  the/DT\n",
            "  people/NNS\n",
            "  ,/,\n",
            "  shall/MD\n",
            "  not/RB\n",
            "  perish/VB\n",
            "  from/IN\n",
            "  the/DT\n",
            "  earth/NN\n",
            "  ./.) \n",
            "\n",
            "\n"
          ],
          "name": "stdout"
        }
      ]
    }
  ]
}