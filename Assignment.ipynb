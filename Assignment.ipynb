{
  "nbformat": 4,
  "nbformat_minor": 0,
  "metadata": {
    "colab": {
      "name": "Assignment.ipynb",
      "provenance": [],
      "collapsed_sections": [],
      "authorship_tag": "ABX9TyPm9IDhMLJHI5Yu2r9WK+z8",
      "include_colab_link": true
    },
    "kernelspec": {
      "name": "python3",
      "display_name": "Python 3"
    }
  },
  "cells": [
    {
      "cell_type": "markdown",
      "metadata": {
        "id": "view-in-github",
        "colab_type": "text"
      },
      "source": [
        "<a href=\"https://colab.research.google.com/github/ChristeenTJose/CSE4022_NLP/blob/master/Assignment.ipynb\" target=\"_parent\"><img src=\"https://colab.research.google.com/assets/colab-badge.svg\" alt=\"Open In Colab\"/></a>"
      ]
    },
    {
      "cell_type": "markdown",
      "metadata": {
        "id": "kBqhp6sBPtH5",
        "colab_type": "text"
      },
      "source": [
        "# Web Scraping and Data Cleaning\n",
        "\n",
        "---\n",
        "##All articles follow an url http://www.natgeotraveller.in/<  title  >/\n",
        "## Articles Used:\n",
        "  * http://www.natgeotraveller.in/train-to-nowhere/\n",
        "  * http://www.natgeotraveller.in/getting-saucy-about-food/\n",
        "  * http://www.natgeotraveller.in/what-dreams-may-come/\n",
        "  * http://www.natgeotraveller.in/six-years-and-counting/"
      ]
    },
    {
      "cell_type": "code",
      "metadata": {
        "id": "fhRxwANOOy_u",
        "colab_type": "code",
        "colab": {}
      },
      "source": [
        "import bs4 as bs\n",
        "import urllib.request"
      ],
      "execution_count": 22,
      "outputs": []
    },
    {
      "cell_type": "code",
      "metadata": {
        "id": "W8SgkTgKYAZQ",
        "colab_type": "code",
        "colab": {}
      },
      "source": [
        "url='http://www.natgeotraveller.in/'"
      ],
      "execution_count": 23,
      "outputs": []
    },
    {
      "cell_type": "code",
      "metadata": {
        "id": "Q3Oq3jRfYj0x",
        "colab_type": "code",
        "colab": {}
      },
      "source": [
        "articles=['train-to-nowhere/','getting-saucy-about-food/','what-dreams-may-come/','six-years-and-counting/']\n",
        "sources=[urllib.request.urlopen(url + i).read() for i in articles]\n",
        "soups=[bs.BeautifulSoup(i,'lxml') for i in sources]"
      ],
      "execution_count": 24,
      "outputs": []
    },
    {
      "cell_type": "code",
      "metadata": {
        "id": "p6t-hvaZb7vW",
        "colab_type": "code",
        "colab": {
          "base_uri": "https://localhost:8080/",
          "height": 238
        },
        "outputId": "45c1afd9-d407-434a-e2d8-8682ad8cdab4"
      },
      "source": [
        "texts=[]\n",
        "unnecessary=' Lakshmi Sankaran\\r\\r                                          fantasizes about a bucket-list journey to witness the aurora borealis someday. Editor in Chief at National Geographic Traveller India, she will also gladly follow a captivating tune to the end of this world.\\r\\r                                 Hey there! Like what you see (or not)? Tell us what you think at web.editor@natgeotraveller.in.'\n",
        "for soup in soups:\n",
        "  text=[]\n",
        "  for paragraph in soup.find_all('p'):\n",
        "      text.append(paragraph.text)#only appending to list will work\n",
        "  text=' '.join(text)\n",
        "  '''\n",
        "      DATA CLEANING\n",
        "  '''\n",
        "  text=text[:-1*len(unnecessary)]#Replace not working\n",
        "  print(text,'\\n\\n')#Works like a String after removing \n",
        "  texts.append(text)#otherwise [text]"
      ],
      "execution_count": 151,
      "outputs": [
        {
          "output_type": "stream",
          "text": [
            "I like a bit of pow-wow in any place. Let me rephrase before you think I am eternally hankering for a fight. What I mean is I would choose crooked streets over straight highways, sweaty mayhem over pristine elegance. This is why no matter where I go in this world, coming home to India, and especially Bombay, is never dull. I blame growing up in the city for my pugilistic predilections. One of the many descriptors that Mark Twain used in relation to Bombay was “pow-wow.” The place seemed to confound him: “Bewitching”, “Bewildering”, “Enchanting”, “Arabian Nights come again?”—the man was repulsed and riveted at the same time. It was a place befitting the number of exclamations he used. At 13, I was yet to be permitted the pleasures of travelling unchaperoned outside Bombay but within its confines, I had free rein to indulge my inner flâneur. I became the weekend loafer, slacking through parts of the city I really had no business being in. My itinerary hardly ever changed: Take the BEST bus to Chowpatty; after filling up on chaat, sample some more at the khau gully in Churchgate; sometimes, pretend to shop for music I could not afford at Kala Ghoda’s Rhythm House, where the desperately-trying-to-be-hip hung out in the 1990s. The final stretch was always my favourite: trudging along to my personal Shangri-La, Victoria Terminus. At VT, I parsed the sea of faces. I drummed up mind games to fill time like “Who’s new and who isn’t?” Spotting either was fairly simple. The former bunch bears dazed glances and open mouths. A person gyrating through the mob with minimum physical contact had been practising for the Local Train Olympics for a few years at least. When it was my turn to head back to the suburbs, I warmed up, adopted a stance that would make Usain Bolt proud and dashed off like the Flash into an incoming train. Like millions of others, Bombay taught me independent travel, in the crudest sense of the term. And it prepared me for the swirling madness that lies in the rest of India. In August, we are showcasing and extolling the allure of domestic journeys. Hampi, celebrated for its ruins, reveals something unexpected after every visit. In Hyderabad, we feature Sufi shrines, some of which abound in nooks you wouldn’t notice. Banaras’s cosy classical music cafés leave a lasting impression on a newcomer’s heart, and in West Bengal, a heritage renaissance seems to be afoot in Serampore. It is incumbent that travellers make forays far from where they live but, every so often, it doesn’t hurt to stumble upon surprises in our own backyard. \n",
            "\n",
            "\n",
            "For my money, memorable disagreements often centre on food. A friend who was about to settle abroad was feeling particularly wistful about a storied south Bombay restaurant, the kind of eatery that locals like to call “overrated” and guidebook-toting tourists faithfully make a beeline for. His favourite on the menu? The baklava—a dry fruit-laden traditional sweet that smacked of decadence in every bite. The first time he requested for the dessert at the restaurant, its eccentric owner was not impressed. Sizing up his credentials, he asked, “Have you had baklava before?” “Yes.” “Where?” “In Turkey.” Suspicions confirmed, the gentleman chided him. “Arre baba, that is the Turkish baklava. This is the Iranian one…” What followed was a 10-minute tutorial on the precise ways in which they differed, part-comical and part-endearing. Forget the grand battles for identity being waged around the world, food drives everyday culture wars. They are infinitely more interesting and the only injury caused is to one’s pride—we could all use some schooling on that front. Besides, unlike spikier tiffs, these usually end in smiles and a knowing wink. Last year I was perusing dinner options at Le Goutillon, an unpretentious French bistro in the heart of Chantilly. After four days in the country, most of my companions were satisfied with their fill of meat and wine, and chose conservatively. However, I and another compatriot were feeling emboldened (perhaps, it was the glass of red) and scanned the chalkboard menu for more adventurous fare. “Bring us the steak!” we declared. When our substantial cuts of beef arrived, it was soon revealed that we had held our appetite in unwarranted esteem. At the end of that meal, Goutillon’s server—a stern, no-nonsense woman—took an eyebrow-cocked look at our barely empty dishes and shook her head in disapproval. A local hotel manager later reminded us of our misplaced bravado. “Oh yeah, I heard about the Indians who didn’t finish their steak!” he giggled. France 2; India 0. In this time’s food special though, India’s showing is strong. Bombay Canteen’s Chef Thomas Zacharias, a flagbearer for all things desi, picks his top 10 must-haves from across the country. A devout traveller, he dishes on where you can seek out the finest haleem and unforgettable curries. We explore subcultures in Delhi, Kolkata and Mumbai through three different food walks. Writer Reema Islam pens a heartfelt ode to dolmades, the Grecian staple that is intertwined with her own history of growing up in Libya and Bangladesh. Antoine Lewis gathers a list of kitchen maestros, from Alex Atala to a reclusive monk in South Korea, each of whom are worth a pilgrimage. Ardent gourmands might also want to consider Dubrovnik, which in writer David Farley’s words, is Europe’s emerging food capital. As you can tell by the examples above, we were guided by pure gluttony this time. \n",
            "\n",
            "\n",
            "Our year-end edition toasts ultra-indulgence while travelling, featuring itineraries that many will know to be out of their financial reach. In producing these narratives, I was struck by a contrast. Travel today is dominated by minimalists or downsizers, those who preach the gospel of “hard-knock wanderlust.” And they almost always reap universal admiration. They are characters to aspire to, examples of made-for-Instagram sayings such as, “All you need is a backpack” or “#MotorcycleDiaries.” Unable to join these gallivanting philosophers, others marvel at their brave rebellion—oh, to give up the predictability of overpriced tourist traps someday, they sigh. In this context, luxury travel evokes a Molotov cocktail of feelings. A billionaire on a sailboat hosting Jazz Age-style revelries in the French Riviera is inevitably setting himself up for mockery. The heiress, who flits off to shopping holidays in Milan and Dubai, might as well buy an extra pair of sunglasses for the shade directed her way. Extravagance passes muster if it panders to affordability. In the last few years, it has become intertwined with entitlement, a radioactive pejorative today. Upper-class travel doesn’t deserve this slight. As more astute aesthetes have reminded us in the past, refined tastes don’t have to be gauche. Living like royalty might have its privileges but it also spurs a temperament for beauty, grace and sensuality, which is why travellers will always fork out top penny for a night in Rajasthan’s many palace stays. Wealth facilitates the kind of understated exclusivity seen in the English countryside’s several castles or manors, once a venue for elegant ballroom dances. Luxury could also simply mean time well spent—or doing nothing—floating atop a sundeck in an unending stretch of the ocean. Professional travel writers are lucky to be granted access to these private paradises and, in December’s magazine, a handful of them have returned with colourful dispatches. One writer enjoys a happy recreational bubble in the Maldives, another is privy to up close views of big game in Botswana. There is also a roundup of New York’s elite food and drinking haunts, and coverage of the maiden cruise between Mumbai and Goa. All these retreats promise a hedonistic binge: grand feasts of fine wine and champagne, and views hidden from the typical trails. Some of them will test your purse-strings but think of Holly Golightly. She couldn’t lay claim to real Tiffany’s jewels but that never stopped her from getting her heart’s fill, standing outside the window. \n",
            "\n",
            "\n",
            "Anniversary editions have the feel of a graduation: a year of studious slogging (of which, truth be told, my team and I do very little) and madcap fun (which we only wish we could indulge in more) rounded off with a sense of achievement and lingering anxiety. There’s pride that National Geographic Traveller India has lived to see another day, and in today’s precarious media landscape, that should account for something. Then the gnawing question: did we get it right? When it comes to travel, is there a right or a wrong way to do it? Early this month, The New York Times unearthed Albert Einstein’s entries of his journeys around Asia and discovered a surprising side to the Nobel Prize winner. About his time in mainland China he wrote, “In the air there is a stench of never-ending manifold variety.” The people, he found, were “industrious, filthy, obtuse…” Travel often functions as a Rorschach test of biases. Some are acutely aware of this and spend their time making amends. Anthony Bourdain’s recent passing prompted glowing tributes from around the world to his open-minded exploration of parts and cultures unknown. There are others who stand their ground: If a traveller’s true sentiments veer towards exotification, maybe it should stay so. Read Indian-American author Akhil Sharma’s recounting of a fortnight in Japan, featured in this issue, for a perfect example. The counter to which, also in this edition, are the observations of three insiders on their hometowns: Member of Parliament Shashi Tharoor sings paeans to Thiruvananthapuram, musician Raghu Dixit toasts Mysore and writer Janice Pariat reminisces about Shillong. The “how” of travel is a matter of debate too. Dyed-in-the-wool snobs harp on about authenticity and immersing yourself in local culture. The more you are inconvenienced, the more real your journey. To which, casual travellers will respond with, “I will take my comfortable stay in a nice hotel, thank you very much.” NGTI’s sixth anniversary is a distillation of these myriad attitudes to travel. In their own way, our writers show you the “right way to do it.” Our centrepiece is the “Smart Hacks” section that features an expert’s take on how best to navigate a place. Lensman Abhishek Hajela, a regular visitor to Ladakh, gives readers a glimpse into getting drool-worthy shots in Ladakh. Vaishali Dinakaran, an avowed gearhead, has the lowdown on grappling with Europe by road. Kaushal Karkhanis decodes solo backpacking in South America for the faraway dreamers. Chinmai Gupta offers a guide through that most “mystical” of institutions—a London nightclub. And if these stories are only a reminder of how ill-prepared your wallet is to go anywhere, we have solutions for that, too. As to whether we got it right, we have another year to fuss over that. \n",
            "\n",
            "\n"
          ],
          "name": "stdout"
        }
      ]
    },
    {
      "cell_type": "markdown",
      "metadata": {
        "id": "ludQm8UnpcTa",
        "colab_type": "text"
      },
      "source": [
        "# Corpus"
      ]
    },
    {
      "cell_type": "code",
      "metadata": {
        "id": "Pd_he4-Gm7jV",
        "colab_type": "code",
        "colab": {
          "base_uri": "https://localhost:8080/",
          "height": 104
        },
        "outputId": "0dd866fa-5465-4cf2-e5ac-abfef8b03194"
      },
      "source": [
        "texts"
      ],
      "execution_count": 152,
      "outputs": [
        {
          "output_type": "execute_result",
          "data": {
            "text/plain": [
              "['I like a bit of pow-wow in any place. Let me rephrase before you think I am eternally hankering for a fight. What I mean is I would choose crooked streets over straight highways, sweaty mayhem over pristine elegance. This is why no matter where I go in this world, coming home to India, and especially Bombay, is never dull. I blame growing up in the city for my pugilistic predilections. One of the many descriptors that Mark Twain used in relation to Bombay was “pow-wow.” The place seemed to confound him: “Bewitching”, “Bewildering”, “Enchanting”, “Arabian Nights come again?”—the man was repulsed and riveted at the same time. It was a place befitting the number of exclamations he used. At 13, I was yet to be permitted the pleasures of travelling unchaperoned outside Bombay but within its confines, I had free rein to indulge my inner flâneur. I became the weekend loafer, slacking through parts of the city I really had no business being in. My itinerary hardly ever changed: Take the BEST bus to Chowpatty; after filling up on chaat, sample some more at the khau gully in Churchgate; sometimes, pretend to shop for music I could not afford at Kala Ghoda’s Rhythm House, where the desperately-trying-to-be-hip hung out in the 1990s. The final stretch was always my favourite: trudging along to my personal Shangri-La, Victoria Terminus. At VT, I parsed the sea of faces. I drummed up mind games to fill time like “Who’s new and who isn’t?” Spotting either was fairly simple. The former bunch bears dazed glances and open mouths. A person gyrating through the mob with minimum physical contact had been practising for the Local Train Olympics for a few years at least. When it was my turn to head back to the suburbs, I warmed up, adopted a stance that would make Usain Bolt proud and dashed off like the Flash into an incoming train. Like millions of others, Bombay taught me independent travel, in the crudest sense of the term. And it prepared me for the swirling madness that lies in the rest of India. In August, we are showcasing and extolling the allure of domestic journeys. Hampi, celebrated for its ruins, reveals something unexpected after every visit. In Hyderabad, we feature Sufi shrines, some of which abound in nooks you wouldn’t notice. Banaras’s cosy classical music cafés leave a lasting impression on a newcomer’s heart, and in West Bengal, a heritage renaissance seems to be afoot in Serampore. It is incumbent that travellers make forays far from where they live but, every so often, it doesn’t hurt to stumble upon surprises in our own backyard.',\n",
              " 'For my money, memorable disagreements often centre on food. A friend who was about to settle abroad was feeling particularly wistful about a storied south Bombay restaurant, the kind of eatery that locals like to call “overrated” and guidebook-toting tourists faithfully make a beeline for. His favourite on the menu? The baklava—a dry fruit-laden traditional sweet that smacked of decadence in every bite. The first time he requested for the dessert at the restaurant, its eccentric owner was not impressed. Sizing up his credentials, he asked, “Have you had baklava before?” “Yes.” “Where?” “In Turkey.” Suspicions confirmed, the gentleman chided him. “Arre baba, that is the Turkish baklava. This is the Iranian one…” What followed was a 10-minute tutorial on the precise ways in which they differed, part-comical and part-endearing. Forget the grand battles for identity being waged around the world, food drives everyday culture wars. They are infinitely more interesting and the only injury caused is to one’s pride—we could all use some schooling on that front. Besides, unlike spikier tiffs, these usually end in smiles and a knowing wink. Last year I was perusing dinner options at Le Goutillon, an unpretentious French bistro in the heart of Chantilly. After four days in the country, most of my companions were satisfied with their fill of meat and wine, and chose conservatively. However, I and another compatriot were feeling emboldened (perhaps, it was the glass of red) and scanned the chalkboard menu for more adventurous fare. “Bring us the steak!” we declared. When our substantial cuts of beef arrived, it was soon revealed that we had held our appetite in unwarranted esteem. At the end of that meal, Goutillon’s server—a stern, no-nonsense woman—took an eyebrow-cocked look at our barely empty dishes and shook her head in disapproval. A local hotel manager later reminded us of our misplaced bravado. “Oh yeah, I heard about the Indians who didn’t finish their steak!” he giggled. France 2; India 0. In this time’s food special though, India’s showing is strong. Bombay Canteen’s Chef Thomas Zacharias, a flagbearer for all things desi, picks his top 10 must-haves from across the country. A devout traveller, he dishes on where you can seek out the finest haleem and unforgettable curries. We explore subcultures in Delhi, Kolkata and Mumbai through three different food walks. Writer Reema Islam pens a heartfelt ode to dolmades, the Grecian staple that is intertwined with her own history of growing up in Libya and Bangladesh. Antoine Lewis gathers a list of kitchen maestros, from Alex Atala to a reclusive monk in South Korea, each of whom are worth a pilgrimage. Ardent gourmands might also want to consider Dubrovnik, which in writer David Farley’s words, is Europe’s emerging food capital. As you can tell by the examples above, we were guided by pure gluttony this time.',\n",
              " 'Our year-end edition toasts ultra-indulgence while travelling, featuring itineraries that many will know to be out of their financial reach. In producing these narratives, I was struck by a contrast. Travel today is dominated by minimalists or downsizers, those who preach the gospel of “hard-knock wanderlust.” And they almost always reap universal admiration. They are characters to aspire to, examples of made-for-Instagram sayings such as, “All you need is a backpack” or “#MotorcycleDiaries.” Unable to join these gallivanting philosophers, others marvel at their brave rebellion—oh, to give up the predictability of overpriced tourist traps someday, they sigh. In this context, luxury travel evokes a Molotov cocktail of feelings. A billionaire on a sailboat hosting Jazz Age-style revelries in the French Riviera is inevitably setting himself up for mockery. The heiress, who flits off to shopping holidays in Milan and Dubai, might as well buy an extra pair of sunglasses for the shade directed her way. Extravagance passes muster if it panders to affordability. In the last few years, it has become intertwined with entitlement, a radioactive pejorative today. Upper-class travel doesn’t deserve this slight. As more astute aesthetes have reminded us in the past, refined tastes don’t have to be gauche. Living like royalty might have its privileges but it also spurs a temperament for beauty, grace and sensuality, which is why travellers will always fork out top penny for a night in Rajasthan’s many palace stays. Wealth facilitates the kind of understated exclusivity seen in the English countryside’s several castles or manors, once a venue for elegant ballroom dances. Luxury could also simply mean time well spent—or doing nothing—floating atop a sundeck in an unending stretch of the ocean. Professional travel writers are lucky to be granted access to these private paradises and, in December’s magazine, a handful of them have returned with colourful dispatches. One writer enjoys a happy recreational bubble in the Maldives, another is privy to up close views of big game in Botswana. There is also a roundup of New York’s elite food and drinking haunts, and coverage of the maiden cruise between Mumbai and Goa. All these retreats promise a hedonistic binge: grand feasts of fine wine and champagne, and views hidden from the typical trails. Some of them will\\xa0test your purse-strings but think of Holly Golightly. She couldn’t lay claim to real Tiffany’s jewels but that never stopped her from getting her heart’s fill, standing outside the window.',\n",
              " 'Anniversary editions have the feel of a graduation: a year of studious slogging (of which, truth be told, my team and I do very little) and madcap fun (which we only wish we could indulge in more) rounded off with a sense of achievement and lingering anxiety. There’s pride that National Geographic Traveller India has lived to see another day, and in today’s precarious media landscape, that should account for something. Then the gnawing question: did we get it right? When it comes to travel, is there a right or a wrong way to do it? Early this month, The New York Times unearthed Albert Einstein’s entries of his journeys around Asia and discovered a surprising side to the Nobel Prize winner. About his time in mainland China he wrote, “In the air there is a stench of never-ending manifold variety.” The people, he found, were “industrious, filthy, obtuse…” Travel often functions as a Rorschach test of biases. Some are acutely aware of this and spend their time making amends. Anthony Bourdain’s recent passing prompted glowing tributes from around the world to his open-minded exploration of parts and cultures unknown. There are others who stand their ground: If a traveller’s true sentiments veer towards exotification, maybe it should stay so. Read Indian-American author Akhil Sharma’s recounting of a fortnight in Japan, featured in this issue, for a perfect example. The counter to which, also in this edition, are the observations of three insiders on their hometowns: Member of Parliament Shashi Tharoor sings paeans to Thiruvananthapuram, musician Raghu Dixit toasts Mysore and writer Janice Pariat reminisces about Shillong. The “how” of travel is a matter of debate too. Dyed-in-the-wool snobs harp on about authenticity and immersing yourself in local culture. The more you are inconvenienced, the more real your journey. To which, casual travellers will respond with, “I will take my comfortable stay in a nice hotel, thank you very much.” NGTI’s sixth anniversary is a distillation of these myriad attitudes to travel. In their own way, our writers show you the “right way to do it.” Our centrepiece is the “Smart Hacks” section that features an expert’s take on how best to navigate a place. Lensman Abhishek Hajela, a regular visitor to Ladakh, gives readers a glimpse into getting drool-worthy shots in Ladakh. Vaishali Dinakaran, an avowed gearhead, has the lowdown on grappling with Europe by road. Kaushal Karkhanis decodes solo backpacking in South America for the faraway dreamers. Chinmai Gupta offers a guide through that most “mystical” of institutions—a London nightclub. And if these stories are only a reminder of how ill-prepared your wallet is to go anywhere, we have solutions for that, too. As to whether we got it right, we have another year to fuss over that.']"
            ]
          },
          "metadata": {
            "tags": []
          },
          "execution_count": 152
        }
      ]
    },
    {
      "cell_type": "markdown",
      "metadata": {
        "id": "QL_tifGCtOH_",
        "colab_type": "text"
      },
      "source": [
        "# Stemming using Lancaster Stemmer"
      ]
    },
    {
      "cell_type": "code",
      "metadata": {
        "id": "fZ1A-4Czt8LY",
        "colab_type": "code",
        "colab": {}
      },
      "source": [
        "import nltk\n",
        "nltk.download('all')"
      ],
      "execution_count": null,
      "outputs": []
    },
    {
      "cell_type": "code",
      "metadata": {
        "id": "eP8rMM6Xty6C",
        "colab_type": "code",
        "colab": {}
      },
      "source": [
        "from nltk.stem import LancasterStemmer\n",
        "LS=LancasterStemmer()"
      ],
      "execution_count": 134,
      "outputs": []
    },
    {
      "cell_type": "code",
      "metadata": {
        "id": "0euwLXEbt2nt",
        "colab_type": "code",
        "colab": {
          "base_uri": "https://localhost:8080/",
          "height": 104
        },
        "outputId": "b6305d88-34bb-42b7-8060-2d7a853e0ae0"
      },
      "source": [
        "Stem=[\" \".join([LS.stem(j) for j in i.split()]) for i in texts]\n",
        "Stem"
      ],
      "execution_count": 155,
      "outputs": [
        {
          "output_type": "execute_result",
          "data": {
            "text/plain": [
              "['i lik a bit of pow-wow in any place. let me rephras bef you think i am etern hank for a fight. what i mean is i would choos crook streets ov straight highways, sweaty mayhem ov pristin elegance. thi is why no mat wher i go in thi world, com hom to india, and espec bombay, is nev dull. i blam grow up in the city for my pugil predilections. on of the many describ that mark twain us in rel to bombay was “pow-wow.” the plac seem to confound him: “bewitching”, “bewildering”, “enchanting”, “arabian night com again?”—the man was repuls and rivet at the sam time. it was a plac befit the numb of exclam he used. at 13, i was yet to be permit the pleas of travel unchaperon outsid bombay but within it confines, i had fre rein to indulg my in flâneur. i becam the weekend loafer, slack through part of the city i real had no busy being in. my itin hard ev changed: tak the best bus to chowpatty; aft fil up on chaat, sampl som mor at the khau gul in churchgate; sometimes, pretend to shop for mus i could not afford at kal ghoda’s rhythm house, wher the desperately-trying-to-be-hip hung out in the 1990s. the fin stretch was alway my favourite: trudg along to my person shangri-la, victor terminus. at vt, i pars the sea of faces. i drum up mind gam to fil tim lik “who’s new and who isn’t?” spot eith was fair simple. the form bunch bear daz glant and op mouths. a person gyr through the mob with minim phys contact had been pract for the loc train olymp for a few year at least. when it was my turn to head back to the suburbs, i warm up, adopt a stant that would mak usain bolt proud and dash off lik the flash into an incom train. lik mil of others, bombay taught me independ travel, in the crudest sens of the term. and it prep me for the swirl mad that lie in the rest of india. in august, we ar showcas and extol the al of domest journeys. hampi, celebr for it ruins, rev someth unexpect aft every visit. in hyderabad, we feat suf shrines, som of which abound in nook you wouldn’t notice. banaras’ cosy class mus café leav a last impress on a newcomer’s heart, and in west bengal, a herit renaiss seem to be afoot in serampore. it is incumb that travel mak foray far from wher they liv but, every so often, it doesn’t hurt to stumbl upon surpr in our own backyard.',\n",
              " 'for my money, mem disagr oft cent on food. a friend who was about to settl abroad was feel particul wist about a story sou bombay restaurant, the kind of eatery that loc lik to cal “overrated” and guidebook-toting tour faith mak a beelin for. his favourit on the menu? the baklava— dry fruit-laden tradit sweet that smack of decad in every bite. the first tim he request for the dessert at the restaurant, it ecc own was not impressed. siz up his credentials, he asked, “have you had baklav before?” “yes.” “where?” “in turkey.” susp confirmed, the gentlem chid him. “arre baba, that is the turk baklava. thi is the ir one…” what follow was a 10-minute tut on the prec way in which they differed, part-comical and part-endearing. forget the grand battl for id being wag around the world, food driv everyday cult wars. they ar infinit mor interest and the on injury caus is to one’s pride—w could al us som schooling on that front. besides, unlik spiky tiffs, thes us end in smil and a know wink. last year i was perus din opt at le goutillon, an unpretenty french bistro in the heart of chantilly. aft four day in the country, most of my comp wer satisfy with their fil of meat and wine, and chos conservatively. however, i and anoth compatriot wer feel embold (perhaps, it was the glass of red) and scan the chalkboard menu for mor adv fare. “bring us the steak!” we declared. when our subst cut of beef arrived, it was soon rev that we had held our appetit in unwar esteem. at the end of that meal, goutillon’s server—a stern, no-nonsense woman—took an eyebrow-cocked look at our bar empty dish and shook her head in disapproval. a loc hotel man lat remind us of our misplac bravado. “oh yeah, i heard about the ind who didn’t fin their steak!” he giggled. frant 2; ind 0. in thi time’s food spec though, india’s show is strong. bombay canteen’s chef thoma zacharias, a flagbear for al thing desi, pick his top 10 must-haves from across the country. a devout traveller, he dish on wher you can seek out the finest haleem and unforget curries. we expl subcult in delhi, kolkat and mumba through three diff food walks. writ reem islam pen a heartfelt od to dolmades, the grec stapl that is intertwin with her own hist of grow up in liby and bangladesh. antoin lew gath a list of kitch maestros, from alex atal to a reclud monk in sou korea, each of whom ar wor a pilgrimage. ard gourmand might also want to consid dubrovnik, which in writ david farley’s words, is europe’s emerg food capital. as you can tel by the exampl above, we wer guid by pur gluttony thi time.',\n",
              " 'our year-end edit toast ultra-indulgence whil travelling, feat itin that many wil know to be out of their fin reach. in produc thes narratives, i was struck by a contrast. travel today is domin by minim or downsizers, thos who preach the gospel of “hard-knock wanderlust.” and they almost alway reap univers admiration. they ar charact to aspir to, exampl of made-for-instagram say such as, “all you nee is a backpack” or “#motorcyclediaries.” un to join thes gal philosophers, oth marvel at their brav rebellion—oh, to giv up the predict of overpr tour trap someday, they sigh. in thi context, luxury travel evok a molotov cocktail of feelings. a billionair on a sailbo host jazz age-styl revelry in the french rivier is inevit set himself up for mockery. the heiress, who flit off to shop holiday in mil and dubai, might as wel buy an extr pair of sunglass for the shad direct her way. extrav pass must if it pand to affordability. in the last few years, it has becom intertwin with entitlement, a radioact pej today. upper-class travel doesn’t deserv thi slight. as mor astut aesthet hav remind us in the past, refin tast don’t hav to be gauche. liv lik royal might hav it privileg but it also spur a tempera for beauty, grac and sensuality, which is why travel wil alway fork out top penny for a night in rajasthan’s many palac stays. weal facilit the kind of underst exclud seen in the engl countryside’s sev castl or manors, ont a venu for eleg ballroom dances. luxury could also simply mean tim wel spent—or doing nothing—float atop a sundeck in an unend stretch of the ocean. profess travel writ ar lucky to be grant access to thes priv parad and, in december’s magazine, a hand of them hav return with colo dispatches. on writ enjoy a happy recr bubbl in the maldives, anoth is privy to up clos view of big gam in botswana. ther is also a roundup of new york’s elit food and drink haunts, and cov of the maid cru between mumba and goa. al thes ret prom a hedon binge: grand feast of fin win and champagne, and view hid from the typ trails. som of them wil test yo purse-strings but think of hol golightly. she couldn’t lay claim to real tiffany’s jewel but that nev stop her from get her heart’s fill, stand outsid the window.',\n",
              " 'annivers edit hav the feel of a graduation: a year of study slog (of which, tru be told, my team and i do very little) and madcap fun (which we on wish we could indulg in more) round off with a sens of achiev and ling anxiety. there’s prid that nat geograph travel ind has liv to see anoth day, and in today’s prec med landscape, that should account for something. then the gnaw question: did we get it right? when it com to travel, is ther a right or a wrong way to do it? ear thi month, the new york tim unearth albert einstein’s entry of his journey around as and discov a surpr sid to the nobel priz winner. about his tim in mainland chin he wrote, “in the air ther is a stench of never-ending manifold variety.” the people, he found, wer “industrious, filthy, obtuse…” travel oft funct as a rorschach test of biases. som ar acut aw of thi and spend their tim mak amends. anthony bourdain’s rec pass prompt glow tribut from around the world to his open-minded expl of part and cult unknown. ther ar oth who stand their ground: if a traveller’s tru senty veer toward exotification, mayb it should stay so. read indian-americ auth akhil sharma’s recount of a fortnight in japan, feat in thi issue, for a perfect example. the count to which, also in thi edition, ar the observ of three insid on their hometowns: memb of parlia shash tharo sing pae to thiruvananthapuram, mus raghu dixit toast mys and writ jan pary reminisc about shillong. the “how” of travel is a mat of deb too. dyed-in-the-wool snob harp on about auth and immers yourself in loc culture. the mor you ar inconvenienced, the mor real yo journey. to which, cas travel wil respond with, “i wil tak my comfort stay in a nic hotel, thank you very much.” ngti’s six annivers is a distil of thes myriad attitud to travel. in their own way, our writ show you the “right way to do it.” our centrepiec is the “smart hacks” sect that feat an expert’s tak on how best to navig a place. lensm abhishek hajela, a regul visit to ladakh, giv read a glimps into get drool-worthy shot in ladakh. vaishal dinakaran, an avow gearhead, has the lowdown on grappl with europ by road. kaush karkh decod solo backpack in sou americ for the faraway dreamers. chinma gupt off a guid through that most “mystical” of institutions—a london nightclub. and if thes story ar on a remind of how ill-prepared yo wallet is to go anywhere, we hav solv for that, too. as to wheth we got it right, we hav anoth year to fuss ov that.']"
            ]
          },
          "metadata": {
            "tags": []
          },
          "execution_count": 155
        }
      ]
    },
    {
      "cell_type": "markdown",
      "metadata": {
        "id": "Ou20oaUDwuvk",
        "colab_type": "text"
      },
      "source": [
        "# CountVectorizer"
      ]
    },
    {
      "cell_type": "code",
      "metadata": {
        "id": "pGY9WxLyxQpq",
        "colab_type": "code",
        "colab": {}
      },
      "source": [
        "from sklearn.feature_extraction.text import CountVectorizer\n",
        "vect=CountVectorizer(binary=True)"
      ],
      "execution_count": 156,
      "outputs": []
    },
    {
      "cell_type": "code",
      "metadata": {
        "id": "ov1vXxWdx41b",
        "colab_type": "code",
        "colab": {
          "base_uri": "https://localhost:8080/",
          "height": 34
        },
        "outputId": "df67a3fa-5e7d-4396-cc64-95c3249a38be"
      },
      "source": [
        "vect.fit(texts)\n",
        "vocab=vect.vocabulary_\n",
        "len(vocab)"
      ],
      "execution_count": 163,
      "outputs": [
        {
          "output_type": "execute_result",
          "data": {
            "text/plain": [
              "947"
            ]
          },
          "metadata": {
            "tags": []
          },
          "execution_count": 163
        }
      ]
    },
    {
      "cell_type": "code",
      "metadata": {
        "id": "sAWtz9GexWOz",
        "colab_type": "code",
        "colab": {
          "base_uri": "https://localhost:8080/",
          "height": 34
        },
        "outputId": "f2ebe707-e30f-4534-c9ae-028e76e0af4f"
      },
      "source": [
        "vect.fit(Stem)\n",
        "vocab=vect.vocabulary_\n",
        "len(vocab)"
      ],
      "execution_count": 164,
      "outputs": [
        {
          "output_type": "execute_result",
          "data": {
            "text/plain": [
              "903"
            ]
          },
          "metadata": {
            "tags": []
          },
          "execution_count": 164
        }
      ]
    },
    {
      "cell_type": "markdown",
      "metadata": {
        "id": "Y3ID9oztxefI",
        "colab_type": "text"
      },
      "source": [
        "# Cosine Similarity"
      ]
    },
    {
      "cell_type": "code",
      "metadata": {
        "id": "4-a79D4AxjBS",
        "colab_type": "code",
        "colab": {}
      },
      "source": [
        "from sklearn.metrics.pairwise import cosine_similarity"
      ],
      "execution_count": 171,
      "outputs": []
    },
    {
      "cell_type": "code",
      "metadata": {
        "id": "T3H-iHTPyzQZ",
        "colab_type": "code",
        "colab": {
          "base_uri": "https://localhost:8080/",
          "height": 118
        },
        "outputId": "a184d3f4-9c94-48b3-fe4e-f35823a211b8"
      },
      "source": [
        "for i in range(len(Stem)-1):\n",
        "  for j in range(i+1,len(Stem)):\n",
        "      similarity = cosine_similarity(vect.transform([Stem[i]]).toarray(), vect.transform([Stem[j]]).toarray())\n",
        "      print('Similarity between Articles: ',i,' and ',j,' : ',similarity)"
      ],
      "execution_count": 179,
      "outputs": [
        {
          "output_type": "stream",
          "text": [
            "Similarity between Articles:  0  and  1  :  [[0.21078196]]\n",
            "Similarity between Articles:  0  and  2  :  [[0.21708323]]\n",
            "Similarity between Articles:  0  and  3  :  [[0.19642857]]\n",
            "Similarity between Articles:  1  and  2  :  [[0.19987028]]\n",
            "Similarity between Articles:  1  and  3  :  [[0.21078196]]\n",
            "Similarity between Articles:  2  and  3  :  [[0.206407]]\n"
          ],
          "name": "stdout"
        }
      ]
    }
  ]
}